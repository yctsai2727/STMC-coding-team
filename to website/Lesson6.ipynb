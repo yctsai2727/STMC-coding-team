{
 "cells": [
  {
   "cell_type": "code",
   "execution_count": null,
   "metadata": {},
   "outputs": [],
   "source": [
    "#recap -input/output\n",
    "print(\"Hello world\")\n",
    "input(\"Tell me something about you: \")"
   ]
  },
  {
   "cell_type": "code",
   "execution_count": null,
   "metadata": {},
   "outputs": [],
   "source": [
    "#recap -variable\n",
    "a=int(input(\"give an integer to me: \"))\n",
    "b=a*a\n",
    "print(\"square of your number is:\",b)"
   ]
  },
  {
   "cell_type": "code",
   "execution_count": null,
   "metadata": {},
   "outputs": [],
   "source": [
    "#recap -if-then-else\n",
    "a=int(input(\"give an even integer to me: \"))\n",
    "if a%2==0:\n",
    "    print(\"Thank you\")\n",
    "else:\n",
    "    print(\"come on, I need an even number,\",a,\"is not an even number\")"
   ]
  },
  {
   "cell_type": "code",
   "execution_count": null,
   "metadata": {},
   "outputs": [],
   "source": [
    "#recap looping\n",
    "a=int(input(\"give an integer to me: \"))\n",
    "print(\"all the even number between 1 to\",a,\"are:\")\n",
    "for j in range(1,a):\n",
    "    if j%2==0:\n",
    "        print(j)"
   ]
  },
  {
   "cell_type": "code",
   "execution_count": null,
   "metadata": {},
   "outputs": [],
   "source": [
    "n=int(input(\"How many number you have: \"))\n",
    "arr=[]\n",
    "sum=0\n",
    "for i in range(n):\n",
    "    temp=int(input(\"give me a number:\"))\n",
    "    arr.append(temp)\n",
    "    sum=sum+temp\n",
    "mean=sum/n\n",
    "max=abs(arr[0]-mean)\n",
    "for i in range(1,n):\n",
    "    if abs(arr[i]-mean)>max:\n",
    "        max=abs(arr[i]-mean)\n",
    "print(\"The largest deviation from the mean is:\",max)"
   ]
  },
  {
   "cell_type": "code",
   "execution_count": null,
   "metadata": {},
   "outputs": [],
   "source": [
    "def Fib(n):\n",
    "  if n == 1 or n == 2:\n",
    "    return 1\n",
    "  else:\n",
    "    return Fib(n-1) + Fib(n-2)"
   ]
  },
  {
   "cell_type": "code",
   "execution_count": null,
   "metadata": {},
   "outputs": [],
   "source": [
    "def Hanoi(n,tar,emt):\n",
    "    #n is the number of pile at the rod you looking at\n",
    "    #tar is the number (or name) of the rod you wish to move the n pile to\n",
    "    #emt is the number (or name) of the rod that is currently empty\n",
    "    ###your code start below###\n",
    "\n",
    "  #Then we ask the user to provide the number of pile to be solved, and call the function we just implemented.\n",
    "  n=int(input(\"Enter the number of pile: \"))\n",
    "  Hanoi(n,3,2)"
   ]
  },
  {
   "cell_type": "code",
   "execution_count": 4,
   "metadata": {},
   "outputs": [
    {
     "name": "stdout",
     "output_type": "stream",
     "text": [
      "Take 20 kg of Jewelry 2\n",
      "Take 20 kg of Jewelry 3\n",
      "Take 60 kg of Jewelry 1\n"
     ]
    }
   ],
   "source": [
    "def Knapsack(W,v,w):\n",
    "    #Treat the first two lines below as some magic, it generates a list u, each element in u is a pair with the the index and the unit price, then u is sorted in descending order\n",
    "    u=[(idx,v[idx]/w[idx]) for idx in range(len(v))]\n",
    "    u.sort(key=(lambda pair:pair[1]),reverse=True)\n",
    "    knapsack=[]\n",
    "    for jew in u:\n",
    "      if w[jew[0]]<=W:\n",
    "        knapsack.append((jew[0],w[jew[0]]))\n",
    "        print(\"Take\",w[jew[0]],\"kg of Jewelry\",jew[0]+1)\n",
    "        W=W-w[jew[0]]\n",
    "      else:\n",
    "        knapsack.append((jew[0],W))\n",
    "        print(\"Take\",W,\"kg of Jewelry\",jew[0]+1)\n",
    "        break\n",
    "    return knapsack\n",
    "\n",
    "W=100\n",
    "v=[90,70,50]\n",
    "w=[90,20,20]\n",
    "res=Knapsack(W,v,w)"
   ]
  },
  {
   "cell_type": "code",
   "execution_count": 13,
   "metadata": {},
   "outputs": [
    {
     "name": "stdout",
     "output_type": "stream",
     "text": [
      "150\n"
     ]
    }
   ],
   "source": [
    "def DPKnapsack(W,v,w):\n",
    "    DP=[[0]*(W+1)]\n",
    "    DP[0][w[0]:]=[v[0]]*(W-w[0]+1)\n",
    "    for i in range(1,len(v)):\n",
    "      DP.append([0]*(W+1))\n",
    "      for j in range(W+1):\n",
    "        if j<w[i]:\n",
    "          DP[i][j] = DP[i-1][j]\n",
    "        else:\n",
    "          DP[i][j] = max(DP[i-1][j],DP[i-1][j-w[i]]+v[i])\n",
    "    return DP[len(v)-1][W]\n",
    "\n",
    "W=100\n",
    "v=[90,70,50,80]\n",
    "w=[90,20,20,80]\n",
    "res=DPKnapsack(W,v,w)\n",
    "print(res)"
   ]
  }
 ],
 "metadata": {
  "kernelspec": {
   "display_name": "Python 3",
   "language": "python",
   "name": "python3"
  },
  "language_info": {
   "codemirror_mode": {
    "name": "ipython",
    "version": 3
   },
   "file_extension": ".py",
   "mimetype": "text/x-python",
   "name": "python",
   "nbconvert_exporter": "python",
   "pygments_lexer": "ipython3",
   "version": "3.6.8"
  },
  "orig_nbformat": 4
 },
 "nbformat": 4,
 "nbformat_minor": 2
}
