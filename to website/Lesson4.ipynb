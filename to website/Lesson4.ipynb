{
 "cells": [
  {
   "cell_type": "code",
   "execution_count": null,
   "metadata": {},
   "outputs": [],
   "source": [
    "N=int(input('Enter N:'))\n",
    "i=1\n",
    "while i<=N:\n",
    "    print(i)\n",
    "    i=i+1\n",
    "print('End of story')"
   ]
  },
  {
   "cell_type": "code",
   "execution_count": null,
   "metadata": {},
   "outputs": [],
   "source": [
    "age=int(input('Enter your age: '))\n",
    "while age<18 or age>65:\n",
    "    print('Age should be from 18-65')\n",
    "    age=int(input('Enter your age: '))\n",
    "print('OK! Have a nice day!')"
   ]
  },
  {
   "cell_type": "code",
   "execution_count": null,
   "metadata": {},
   "outputs": [],
   "source": [
    "#Your turn!\n",
    "n=int(input('Enter n: '))\n",
    "#your code start here"
   ]
  },
  {
   "cell_type": "code",
   "execution_count": null,
   "metadata": {},
   "outputs": [],
   "source": [
    "for i in range(0,5):\n",
    "    print(i)"
   ]
  },
  {
   "cell_type": "code",
   "execution_count": null,
   "metadata": {},
   "outputs": [],
   "source": [
    "N=int(input('Enter N: '))\n",
    "for i in range(0,N):\n",
    "    print(i+1)"
   ]
  },
  {
   "cell_type": "code",
   "execution_count": null,
   "metadata": {},
   "outputs": [],
   "source": [
    "N=int(input('Enter N:'))\n",
    "S=0\n",
    "for i in range(1,2*N,2):\n",
    "    S += i\n",
    "print('Sum:',S)"
   ]
  },
  {
   "cell_type": "code",
   "execution_count": null,
   "metadata": {},
   "outputs": [],
   "source": [
    "#solution 1\n",
    "N=int(input('Enter N: '))\n",
    "for i in range(0,N):\n",
    "    for j in range(0,i+1):\n",
    "        print('*',end='')\n",
    "    print('\\n')"
   ]
  },
  {
   "cell_type": "code",
   "execution_count": null,
   "metadata": {},
   "outputs": [],
   "source": [
    "#solution 2\n",
    "N=int(input('Enter N: '))\n",
    "for i in range(0,N):\n",
    "    print('*'*(i+1))"
   ]
  },
  {
   "cell_type": "code",
   "execution_count": null,
   "metadata": {},
   "outputs": [],
   "source": [
    "N=int(input('Enter N: '))\n",
    "for i in range(0,2*N-1):\n",
    "    if i<N:\n",
    "        print('*'*(i+1))\n",
    "    else:\n",
    "        print('*'*(2*N-i-1))"
   ]
  },
  {
   "cell_type": "code",
   "execution_count": null,
   "metadata": {},
   "outputs": [],
   "source": [
    "N=int(input('Enter N: '))\n",
    "#your code start here"
   ]
  },
  {
   "cell_type": "code",
   "execution_count": null,
   "metadata": {},
   "outputs": [],
   "source": [
    "myList = ['Hello',831.9, False, 88]\n",
    "\n",
    "print('myList[0]: ', myList[0]) # myList[0] = 'Hello'\n",
    "print('myList[1]: ', myList[1]) # myList[1] = 831.9\n",
    "print('myList[2]: ', myList[2]) # myList[2] = False\n",
    "print('myList[3]: ', myList[3]) # myList[3] = 88"
   ]
  },
  {
   "cell_type": "code",
   "execution_count": null,
   "metadata": {},
   "outputs": [],
   "source": [
    "myList=[17]\n",
    "print(myList[1])"
   ]
  },
  {
   "cell_type": "code",
   "execution_count": null,
   "metadata": {},
   "outputs": [],
   "source": [
    "myList=['Hello',123,False,79.1]\n",
    "print('Length of list: ',len(myList))"
   ]
  },
  {
   "cell_type": "code",
   "execution_count": null,
   "metadata": {},
   "outputs": [],
   "source": [
    "myList = [] # Empty list\n",
    "print(myList) # Print []\n",
    "\n",
    "myList.append(3) # Append 3 to list\n",
    "print(myList) # Print [3]\n",
    "\n",
    "myList.append('Hi') # Add 'Hi' to the end \n",
    "print(myList) # Print [3, 'Hi']"
   ]
  },
  {
   "cell_type": "code",
   "execution_count": null,
   "metadata": {},
   "outputs": [],
   "source": [
    "studentScore = []\n",
    "score = 0\n",
    "\n",
    "while score >= 0: # Keep looping until input -1\n",
    "  score = float(input('Enter score, enter -1 to terminate:'))\n",
    "  if score >= 0:\n",
    "    studentScore.append(score)"
   ]
  },
  {
   "cell_type": "code",
   "execution_count": null,
   "metadata": {},
   "outputs": [],
   "source": [
    "studentScore = [82,42,72,64,22]\n",
    "\n",
    "# Print the items in the list\n",
    "for i in range(0,len(studentScore)):\n",
    "  print('Student ',i,'score ',studentScore[i])"
   ]
  },
  {
   "cell_type": "code",
   "execution_count": null,
   "metadata": {},
   "outputs": [],
   "source": [
    "studentScore = [82,42,72,64,22]\n",
    "largest = studentScore[0]\n",
    "\n",
    "for i in range(0,len(studentScore)):\n",
    "  if studentScore[i] > largest:\n",
    "    largest = studentScore[i] # If we find a score larger than largest, update largest score \n",
    "  \n",
    "print('Highest score: ',largest) # Print highest score"
   ]
  },
  {
   "cell_type": "code",
   "execution_count": null,
   "metadata": {},
   "outputs": [],
   "source": [
    "studentScore = [82,42,72,64,22]\n",
    "for i in range(0,len(studentScore)):\n",
    "  min=studentScore[i]\n",
    "  minPos=i\n",
    "  for j in range(i,len(studentScore)):\n",
    "    if(studentScore[j]<min):\n",
    "      min=studentScore[j]\n",
    "      minPos=j\n",
    "  studentScore[i],studentScore[minPos]=studentScore[minPos],studentScore[i]"
   ]
  }
 ],
 "metadata": {
  "kernelspec": {
   "display_name": "Python 3.8.6 64-bit",
   "language": "python",
   "name": "python3"
  },
  "language_info": {
   "codemirror_mode": {
    "name": "ipython",
    "version": 3
   },
   "file_extension": ".py",
   "mimetype": "text/x-python",
   "name": "python",
   "nbconvert_exporter": "python",
   "pygments_lexer": "ipython3",
   "version": "3.8.6"
  },
  "orig_nbformat": 4,
  "vscode": {
   "interpreter": {
    "hash": "1d8f32b7194eb7d118a32cd1a235be0f1bcba0bba7ac225b290b984c114c6786"
   }
  }
 },
 "nbformat": 4,
 "nbformat_minor": 2
}
