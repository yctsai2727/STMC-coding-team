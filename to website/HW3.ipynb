{
 "cells": [
  {
   "cell_type": "markdown",
   "metadata": {},
   "source": [
    "Question 1\n",
    "<p>Remember in HW1 we try to calculate the reverse number for any 3 digits number? Now we learn looping, so we can try to handle a more complicated case. Write a program to calculate the reverse number for any positive integer input.</p>"
   ]
  },
  {
   "cell_type": "code",
   "execution_count": null,
   "metadata": {},
   "outputs": [],
   "source": [
    "n=int(input('Enter the number to be reversed:'))\n",
    "#your code start here"
   ]
  },
  {
   "cell_type": "markdown",
   "metadata": {},
   "source": [
    "Question 2\n",
    "<p>In this section we are going to implement a famous game: Tic-Tac-Toe, it consists of a 3x3 grids, user can take turns to put either X or O onto the board, the first one who get three in a line win.\n",
    "\n",
    "We will do it using the List, consider we can actually store the board in the following way, we call the left-top corner board to be 0, the one next to it be 1, then 2 and etc, as illustrated below\n",
    "\n",
    "<pre>\n",
    "                        0 | 1 | 2\n",
    "                        ---------\n",
    "                        3 | 4 | 5\n",
    "                        ---------\n",
    "                        6 | 7 | 8\n",
    "</pre>\n",
    "\n",
    "Then we will ask player to input a number for putting the symbol on, for simplicity we assume user are smart enough so that they do not enter wrong number nor try to put onto the grid that already contain something.\n",
    "\n",
    "We implemented several functions already as follow,\n",
    "1. checkRow(n): this function will check the n-th row and see if the row contain same symbol\n",
    "2. checkCol(n): this function will check the n-th column and see if the column contain same symbol\n",
    "3. checkDiag(): this function will check the both of the diagonal and see if any of them contain same symbol in a line\n",
    "4. printBoard(): this function will print the current board out.\n",
    "\n",
    "Now your task is to read the implementation of these functions and implement the main part of the game, namely asking user for input, update the list accordingly and then check if one of the player win. Again please write your code only after the comment line and changing of provided code might cause the whole program to fail.</p>"
   ]
  },
  {
   "cell_type": "code",
   "execution_count": null,
   "metadata": {},
   "outputs": [],
   "source": [
    "board=[' ',' ',' ',' ',' ',' ',' ',' ',' ']\n",
    "\n",
    "def checkRow(n):\n",
    "    if board[3*(n-1)]==board[3*(n-1)+1] and board[3*(n-1)+1]==board[3*(n-1)+2] and board[3*(n-1)]!=' ':\n",
    "        return True\n",
    "    else:\n",
    "        return False\n",
    "\n",
    "def checkCol(n):\n",
    "    if board[n-1]==board[2+n] and board[2+n]==board[5+n] and board[n-1]!=' ':\n",
    "        return True\n",
    "    else:\n",
    "        return False\n",
    "\n",
    "def checkDiag():\n",
    "    if board[0]==board[4] and board[4]==board[7] and board[0]!=' ':\n",
    "        return True\n",
    "    elif board[2]==board[4] and board[4]==board[6] and board[2]!=' ':\n",
    "        return True\n",
    "    else:\n",
    "        return False\n",
    "\n",
    "def printMap():\n",
    "    for i in range(0,9):\n",
    "        if (i%3)!=0:\n",
    "            print(' | ')\n",
    "        print(board[i],end='')\n",
    "        if (i+1)%3==0:\n",
    "            print('\\n')\n",
    "    return\n",
    "\n",
    "if __name__ == \"__main__\":\n",
    "    #your code start here\n",
    "    "
   ]
  },
  {
   "cell_type": "markdown",
   "metadata": {},
   "source": [
    "Question 3\n",
    "<p>\n",
    "Recall in the lecture we see at least two ways of finding the maximum element of a list, namely the looping solution and the function folding solution, however both of these solutions require the program to walk through the whole array, let's see if the concept of divide and conquer can help us to improve the solution! Write a function that use divide and conquer to find the maximum element of the list and return it. \n",
    "</p>\n",
    "\n",
    "<p>\n",
    "<b>Challenge</b>: Is the solution really faster? Why or why not? \n",
    "</p>"
   ]
  },
  {
   "cell_type": "code",
   "execution_count": null,
   "metadata": {},
   "outputs": [],
   "source": [
    "def Max(list):\n",
    "    #your code start here, u can modify the function paremeter list as well\n"
   ]
  }
 ],
 "metadata": {
  "kernelspec": {
   "display_name": "Python 3.8.6 64-bit",
   "language": "python",
   "name": "python3"
  },
  "language_info": {
   "codemirror_mode": {
    "name": "ipython",
    "version": 3
   },
   "file_extension": ".py",
   "mimetype": "text/x-python",
   "name": "python",
   "nbconvert_exporter": "python",
   "pygments_lexer": "ipython3",
   "version": "3.8.6"
  },
  "orig_nbformat": 4,
  "vscode": {
   "interpreter": {
    "hash": "1d8f32b7194eb7d118a32cd1a235be0f1bcba0bba7ac225b290b984c114c6786"
   }
  }
 },
 "nbformat": 4,
 "nbformat_minor": 2
}
