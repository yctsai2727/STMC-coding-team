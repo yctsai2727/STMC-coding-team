{
 "cells": [
  {
   "cell_type": "code",
   "execution_count": 11,
   "metadata": {},
   "outputs": [
    {
     "name": "stdout",
     "output_type": "stream",
     "text": [
      "reversed number: 1\n"
     ]
    }
   ],
   "source": [
    "#Q1 Solution\n",
    "n=int(input('Enter the number to be reversed:'))\n",
    "reversed=0\n",
    "while n!=0:\n",
    "    reversed=reversed*10+(n%10)\n",
    "    n=n//10\n",
    "print(\"reversed number:\",reversed)\n"
   ]
  },
  {
   "cell_type": "code",
   "execution_count": null,
   "metadata": {},
   "outputs": [],
   "source": [
    "#Q2 Solution\n",
    "board=[' ',' ',' ',' ',' ',' ',' ',' ',' ']\n",
    "\n",
    "def checkRow(n):\n",
    "    if board[3*(n-1)]==board[3*(n-1)+1] and board[3*(n-1)+1]==board[3*(n-1)+2] and board[3*(n-1)]!=' ':\n",
    "        return True\n",
    "    else:\n",
    "        return False\n",
    "\n",
    "def checkCol(n):\n",
    "    if board[n-1]==board[2+n] and board[2+n]==board[5+n] and board[n-1]!=' ':\n",
    "        return True\n",
    "    else:\n",
    "        return False\n",
    "\n",
    "def checkDiag():\n",
    "    if board[0]==board[4] and board[4]==board[8] and board[0]!=' ':\n",
    "        return True\n",
    "    elif board[2]==board[4] and board[4]==board[6] and board[2]!=' ':\n",
    "        return True\n",
    "    else:\n",
    "        return False\n",
    "\n",
    "def printMap():\n",
    "    for i in range(0,9):\n",
    "        if (i%3)!=0:\n",
    "            print(' | ',end='')\n",
    "        print(board[i],end='')\n",
    "        if (i+1)%3==0:\n",
    "            print('\\n')\n",
    "    return\n",
    "\n",
    "if __name__ == \"__main__\":\n",
    "    player=0\n",
    "    for i in range(9):\n",
    "        flag=False\n",
    "        print(\"it's player\",player,\"'s turn now\")\n",
    "        pos=int(input(\"please enter a position to place your mark\"))\n",
    "        while pos<0 or pos>8 or board[pos]!=' ':\n",
    "            print(\"The place is already placed\")\n",
    "            pos=int(input(\"please enter a position to place your mark\"))\n",
    "        if player==0:\n",
    "            board[pos]='X'\n",
    "        else:\n",
    "            board[pos]='O'\n",
    "        printMap()\n",
    "        for i in range(3):\n",
    "            if checkRow(i) or checkCol(i):\n",
    "                print(\"Player\",player,\"has won!\")\n",
    "                flag=True\n",
    "                break\n",
    "        if not flag and checkDiag():\n",
    "            print(\"Player\",player,\"has won!\")\n",
    "            flag=True\n",
    "        if flag:        \n",
    "            break\n",
    "        player=1-player"
   ]
  },
  {
   "cell_type": "code",
   "execution_count": 12,
   "metadata": {},
   "outputs": [
    {
     "name": "stdout",
     "output_type": "stream",
     "text": [
      "99\n"
     ]
    }
   ],
   "source": [
    "#Q3 Solution\n",
    "def Max(list,head,tail):\n",
    "    if head == tail:\n",
    "        return list[head]\n",
    "    else:\n",
    "        return max(Max(list,head,(head+tail)//2),Max(list,(head+tail)//2+1,tail))\n",
    "    \n",
    "SampleList = [1,7,8,22,36,99,3]\n",
    "print(Max(SampleList,0,len(SampleList)-1))"
   ]
  }
 ],
 "metadata": {
  "kernelspec": {
   "display_name": "Python 3",
   "language": "python",
   "name": "python3"
  },
  "language_info": {
   "codemirror_mode": {
    "name": "ipython",
    "version": 3
   },
   "file_extension": ".py",
   "mimetype": "text/x-python",
   "name": "python",
   "nbconvert_exporter": "python",
   "pygments_lexer": "ipython3",
   "version": "3.6.8"
  },
  "orig_nbformat": 4
 },
 "nbformat": 4,
 "nbformat_minor": 2
}
