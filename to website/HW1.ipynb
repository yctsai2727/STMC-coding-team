{
 "cells": [
  {
   "cell_type": "markdown",
   "metadata": {},
   "source": [
    "Group Member [Format: class (class no.) Name]:\n",
    "1. \n",
    "2. \n",
    "3. \n",
    "4. "
   ]
  },
  {
   "cell_type": "markdown",
   "metadata": {},
   "source": [
    "Question 1\n",
    "\n",
    "Math can be a fun subject, but it is definitely not that fun when we are just ask to do some annoying calculation.\n",
    "\n",
    "Imaging you are asked to find the quotient and remainder of the following division: 177013288922 divided by 48763. It seems like a nightmare (at least to me). Since calculating this thing by hand is definitely not fun at all, let's design a program to help us to do so."
   ]
  },
  {
   "cell_type": "code",
   "execution_count": null,
   "metadata": {},
   "outputs": [],
   "source": [
    "#your task: calculate the quotient and remainder of a certain division and print it out, you can break the task into several parts\n",
    "#       1. ask user to tell you what should be divided by what, store them down in your program\n",
    "#       2. calculate the quotient and remainder\n",
    "#       3. print your result out\n",
    "#your code start here\n"
   ]
  },
  {
   "cell_type": "markdown",
   "metadata": {},
   "source": [
    "Question 2\n",
    "\n",
    "It is common that in real life application that we might need to measure the speed of something that is moving. But how do we actually do that? \n",
    "\n",
    "Let's assume we are measuring the speed of car moving on a straight road, a very simple way is to set up two sensor connected to a computer at the side of the road, the two sensors are aligned with the road such that whenever something is moving on the road, it must pass by the two sensor one by one. \n",
    "\n",
    "Then whenever something pass by the sensor, the sensors will be able to detect it and record the time down. Since the distance between the two sensors are fixed, hence together with the time difference and the distance between the sensor, we can calculate the speed of the thing pass by."
   ]
  },
  {
   "cell_type": "code",
   "execution_count": null,
   "metadata": {},
   "outputs": [],
   "source": [
    "#your task: User will input the time difference between the time recorded from the two sensors, your job is to evaluate the speed from the given time, it is also given that the distance between two sensor is 3(m). Breaking it into 3 parts gives\n",
    "#   1. ask for user the time difference in (s)\n",
    "#   2. calculate the speed from the time difference and the distance given\n",
    "#   3. print out your calculation, the unit should be (m/s)\n",
    "#your code start here\n"
   ]
  },
  {
   "cell_type": "markdown",
   "metadata": {},
   "source": [
    "Question 3\n",
    "\n",
    "Finally, the last question, yeah!\n",
    "\n",
    "This will be a challenging question, you may need to think carefully about it.\n",
    "\n",
    "In this task, we will need to calculate the 'reverse number'. A reverse number is defined as suppose I have a number with digit abcde...z, then its reverse number will be z...cba. Which basically reverse all its digit.\n",
    "\n",
    "Still don't understand? Don't worry I will give you some example, let's say your number is 1234, then the reverse number of 1234 will be 4321. Some intersting example like if your number is 100, then your reverse number will be 001 which is basically just 1.\n",
    "\n",
    "Well solving this problem for any number may be too hard for us right now, so we will only focus on the case that our number has at most only 3 digits.\n",
    "\n",
    "Hint: for any number k, think about what is the quotient and the remainder of k divided by 10. What about for 100? and 1000?"
   ]
  },
  {
   "cell_type": "code",
   "execution_count": null,
   "metadata": {},
   "outputs": [],
   "source": [
    "#Your task: ask user to input a 3 digit number, it's ok if he/she enter more than 3 digits, in that case we will just be giving the wrong answer to them. Then calculate the reverse number of the input number, lastly print it out. Again we list the 3 parts for u\n",
    "#   1. ask user for a 3-digit number\n",
    "#   2. calculate its reverse number\n",
    "#   3. print out your calculation\n",
    "#your code start here\n"
   ]
  }
 ],
 "metadata": {
  "kernelspec": {
   "display_name": "Python 3.8.6 64-bit",
   "language": "python",
   "name": "python3"
  },
  "language_info": {
   "name": "python",
   "version": "3.8.6"
  },
  "orig_nbformat": 4,
  "vscode": {
   "interpreter": {
    "hash": "1d8f32b7194eb7d118a32cd1a235be0f1bcba0bba7ac225b290b984c114c6786"
   }
  }
 },
 "nbformat": 4,
 "nbformat_minor": 2
}
