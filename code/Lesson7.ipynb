{
 "cells": [
  {
   "cell_type": "code",
   "execution_count": 20,
   "metadata": {},
   "outputs": [
    {
     "name": "stdout",
     "output_type": "stream",
     "text": [
      "[(0, 0), (1, 0), (2, 0), (2, 1), (2, 2)]\n"
     ]
    }
   ],
   "source": [
    "def MazeSolver(maze,pos = (0,0)):\n",
    "    #the maze is expressed as a list of list\n",
    "    ###your code start below###\n",
    "\n",
    "\n",
    "#The main part of code start here\n",
    "SampleMaze = [['u',' ',' '],[' ','o',' '],[' ',' ','e']]\n",
    "print(MazeSolver(SampleMaze))"
   ]
  },
  {
   "cell_type": "code",
   "execution_count": 10,
   "metadata": {},
   "outputs": [
    {
     "data": {
      "text/plain": [
       "'Found the way out!'"
      ]
     },
     "execution_count": 10,
     "metadata": {},
     "output_type": "execute_result"
    }
   ],
   "source": [
    "def ShortMazeSolver(maze):\n",
    "    m = len(maze)\n",
    "    n = len(maze[0])\n",
    "    Visited = [[False]* n for _ in range(m)]\n",
    "    VisitQueue = [(0,0)]\n",
    "    for pos in VisitQueue:\n",
    "      Visited[pos[0]][pos[1]] = True\n",
    "      if maze[pos[0]][pos[1]] == 'e':\n",
    "        return \"Found the way out!\"\n",
    "      if pos[0]>0 and not Visited[pos[0]-1][pos[1]] and maze[pos[0]-1][pos[1]] != 'o':\n",
    "        VisitQueue.append((pos[0]-1,pos[1]))\n",
    "      if pos[1]>0 and not Visited[pos[0]][pos[1]-1] and maze[pos[0]][pos[1]-1] != 'o':\n",
    "        VisitQueue.append((pos[0],pos[1]-1))\n",
    "      if pos[0]<m-1 and not Visited[pos[0]+1][pos[1]] and maze[pos[0]+1][pos[1]] != 'o':\n",
    "        VisitQueue.append((pos[0]+1,pos[1]))\n",
    "      if pos[1]<n-1 and not Visited[pos[0]][pos[1]+1] and maze[pos[0]][pos[1]+1] != 'o':\n",
    "        VisitQueue.append((pos[0],pos[1]+1))\n",
    "    return \"No Way Out!\"\n",
    "\n",
    "#The main part of code start here\n",
    "SampleMaze = [['u',' ',' '],[' ','o',' '],[' ',' ','e']]\n",
    "ShortMazeSolver(SampleMaze)"
   ]
  }
 ],
 "metadata": {
  "kernelspec": {
   "display_name": "Python 3",
   "language": "python",
   "name": "python3"
  },
  "language_info": {
   "codemirror_mode": {
    "name": "ipython",
    "version": 3
   },
   "file_extension": ".py",
   "mimetype": "text/x-python",
   "name": "python",
   "nbconvert_exporter": "python",
   "pygments_lexer": "ipython3",
   "version": "3.6.8"
  },
  "orig_nbformat": 4
 },
 "nbformat": 4,
 "nbformat_minor": 2
}
