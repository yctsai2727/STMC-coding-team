{
 "cells": [
  {
   "cell_type": "markdown",
   "metadata": {},
   "source": [
    "Group Member [Format: class (class no.) Name]:\n",
    "1. \n",
    "2. \n",
    "3. \n",
    "4. "
   ]
  },
  {
   "cell_type": "markdown",
   "metadata": {},
   "source": [
    "Question 1\n",
    "Let's start with a simple one, recall the score to grade converter demonstrated on the lesson, now we want to do a slightly complex one, we have 3 students, Tim, Fredrick and Ivan in a small class, they attended the math exam and receive their own score. The grade are given by the following rule:\n",
    "        A: score>85 or first in the class\n",
    "        B: score>70 or second in the class\n",
    "        C: score>55 or third in class\n",
    "Write a program to determine the grade of each person, noted that it is possible that all people get an A."
   ]
  },
  {
   "cell_type": "code",
   "execution_count": null,
   "metadata": {},
   "outputs": [],
   "source": [
    "#write a program to determine the grade of the three students\n",
    "\n",
    "TimScore = int(input('Enter Tim\\'s score'))\n",
    "FredrickScore = int(input('Enter Fredrick\\'s score'))\n",
    "IvanScore = int(input('Enter Ivan\\'s score'))\n",
    "\n",
    "#your code start here"
   ]
  },
  {
   "cell_type": "markdown",
   "metadata": {},
   "source": [
    "Question 2\n",
    "Recall the prime number that we learnt in primary school, the number that is only divisible by 1 and itself. This really simple idea turns out to be extremely important in mathematics and computer science. There is even problems related to prime number that are unsolved for hundreds of years. \n",
    "\n",
    "In this exercise we want to write a simple program to check whether a number is prime or not, to keep it simple we only do it for number within 1-100.\n",
    "\n",
    "To achieve it, one can obviously check all the number within 1-100, but that result in 100 boolean statement, which does not make sense for us to do so. Fortunately there is a good theorem about it, saying that if a number within 100 cannot be divisible by 2,3,5 and 7, then that number must be a prime. (search Sieve of Eratosthenes for more about it)"
   ]
  },
  {
   "cell_type": "code",
   "execution_count": null,
   "metadata": {},
   "outputs": [],
   "source": [
    "#write a program to check whether a number is prime or not, print yes if it is a prime and no if not\n",
    "\n",
    "number=int(input('Enter a number: '))\n",
    "#your code start here"
   ]
  },
  {
   "cell_type": "markdown",
   "metadata": {},
   "source": [
    "Question 3\n",
    "\n",
    "Let's play a game, imagine now you need to rush to school since you are late, so you need to rush at full speed without hesitate, but since there are obstacle on the road and you definite don't want to crash onto it, so you need to slightly change your running direction.\n",
    "\n",
    "The situation is simulated as below, the school is 100(m) away and you need to rush toward it,\n",
    "\n",
    "<pre>\n",
    "        12345...                                                                                            100\n",
    "1       o__________________x______________________________________________x_________________________________\n",
    "2       _________________________________x_____________________________________________________x____________\n",
    "3       _________x____________________________________x_____________________________________________________\n",
    "4       ____________________________________________________________x_________________x_____________________\n",
    "5       ___________________ _______________________________x________________________________________________\n",
    "</pre>\n",
    "\n",
    "the o represent your character, x represent obstacle, and _ are just the road. There are 5 roads in parallel that you can reach the school no matter which road you end at. As the game start the character will start at road 1 keep rushing to the right, you need to design a simple program for avoiding bumping into the obstacle. You will have several function that can use in designing the program,\n",
    "\n",
    "        1. ObstacleInfront(), it will be true if there is obtacle directly infront of the character\n",
    "        2. MoveUp(), it will tell the character to move upward, it will do nothing if there is no road upward\n",
    "        3. MoveDown(), it will tell the character to move downward, it will do nothing if there is no road downward\n",
    "        4. CurrentRoad(), it will be the number of the road currently the user at, say 1 for above example\n",
    "\n",
    "The character can travel to the right by 1(m) per second, and at each second the character will call your program and decide whether he needs to do anything or just keep rushing right. Write your program within the def decision() as marked by comment, please don't modify other things as they are crucial to the whole game."
   ]
  },
  {
   "cell_type": "code",
   "execution_count": null,
   "metadata": {},
   "outputs": [],
   "source": [
    "from google.colab import output\n",
    "import time\n",
    "\n",
    "T=0\n",
    "\n",
    "CurrentHeight=0\n",
    "\n",
    "Map= [\n",
    "    \"___________________x______________________________________________x_________________________________\",\n",
    "    \"_________________________________x_____________________________________________________x____________\",\n",
    "    \"_________x____________________________________x_____________________________________________________\",\n",
    "    \"____________________________________________________________x_________________x_____________________\",\n",
    "    \"___________________ _______________________________x_________________________________________x______\"\n",
    "]\n",
    "\n",
    "def Update():\n",
    "    global CurrentHeight,T,Map\n",
    "    output.clear()\n",
    "    for i in range(0,5):\n",
    "        if i!=CurrentHeight:\n",
    "            print(Map[i],'\\n')\n",
    "        else:\n",
    "            for j in range(0,100):\n",
    "                if j==T:\n",
    "                    print('o',end='')\n",
    "                else:\n",
    "                    print(Map[i][j],end='')\n",
    "            \n",
    "            print('\\n')\n",
    "\n",
    "def MoveUp():\n",
    "    global CurrentHeight,T,Map\n",
    "    if CurrentHeight>0:\n",
    "        CurrentHeight-=1\n",
    "        return True\n",
    "    else:\n",
    "        return False\n",
    "\n",
    "def MoveDown():\n",
    "    global CurrentHeight,T,Map\n",
    "    if CurrentHeight<4:\n",
    "        CurrentHeight+=1\n",
    "        return True\n",
    "    else:\n",
    "        return False\n",
    "\n",
    "def ObstacleInfront():\n",
    "    return Map[CurrentHeight][T+1]=='x'\n",
    "\n",
    "def CurrentRoad():\n",
    "    return CurrentHeight+1\n",
    "\n",
    "def decision():\n",
    "    #your code start here, do not modify the things above\n",
    "    \n",
    "    #your code end here, do not modify the things below\n",
    "    return True\n",
    "\n",
    "if __name__ == \"__main__\":\n",
    "    Update()\n",
    "    for i in range(0,99):\n",
    "        decision()\n",
    "        if(ObstacleInfront()):\n",
    "            print('you bumped into a obstacle!')\n",
    "            break\n",
    "        T+=1\n",
    "        Update()\n",
    "        time.sleep(1)\n",
    "    print('Congratualation! you made it')"
   ]
  }
 ],
 "metadata": {
  "kernelspec": {
   "display_name": "Python 3.8.6 64-bit",
   "language": "python",
   "name": "python3"
  },
  "language_info": {
   "codemirror_mode": {
    "name": "ipython",
    "version": 3
   },
   "file_extension": ".py",
   "mimetype": "text/x-python",
   "name": "python",
   "nbconvert_exporter": "python",
   "pygments_lexer": "ipython3",
   "version": "3.8.6"
  },
  "orig_nbformat": 4,
  "vscode": {
   "interpreter": {
    "hash": "1d8f32b7194eb7d118a32cd1a235be0f1bcba0bba7ac225b290b984c114c6786"
   }
  }
 },
 "nbformat": 4,
 "nbformat_minor": 2
}
