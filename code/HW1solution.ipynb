{
 "cells": [
  {
   "cell_type": "code",
   "execution_count": null,
   "metadata": {},
   "outputs": [],
   "source": [
    "#Q1 solution\n",
    "a=int(input(\"what to be divided? \"))\n",
    "b=int(input(\"divided by what? \"))\n",
    "q=a//b\n",
    "r=a%b\n",
    "print(\"quotient:\",q,\", remainder:\",r)"
   ]
  },
  {
   "cell_type": "code",
   "execution_count": null,
   "metadata": {},
   "outputs": [],
   "source": [
    "#Q2 solution\n",
    "dt=float(input(\"Enter the time difference (s): \"))\n",
    "speed=3/dt\n",
    "print(\"speed=\",speed,\" (m/s)\")"
   ]
  },
  {
   "cell_type": "code",
   "execution_count": null,
   "metadata": {},
   "outputs": [],
   "source": [
    "#Q3 solution\n",
    "num=int(input(\"Enter a 3 digit number: \"))\n",
    "digit1=num%10\n",
    "digit2=num//10%10\n",
    "digit3=num//100%10\n",
    "reverse=digit1*100+digit2*10+digit3\n",
    "print(\"revesed number is\",reverse)"
   ]
  }
 ],
 "metadata": {
  "kernelspec": {
   "display_name": "Python 3.8.6 64-bit",
   "language": "python",
   "name": "python3"
  },
  "language_info": {
   "codemirror_mode": {
    "name": "ipython",
    "version": 3
   },
   "file_extension": ".py",
   "mimetype": "text/x-python",
   "name": "python",
   "nbconvert_exporter": "python",
   "pygments_lexer": "ipython3",
   "version": "3.8.6"
  },
  "orig_nbformat": 4,
  "vscode": {
   "interpreter": {
    "hash": "1d8f32b7194eb7d118a32cd1a235be0f1bcba0bba7ac225b290b984c114c6786"
   }
  }
 },
 "nbformat": 4,
 "nbformat_minor": 2
}
