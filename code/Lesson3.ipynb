{
 "cells": [
  {
   "cell_type": "code",
   "execution_count": null,
   "metadata": {},
   "outputs": [],
   "source": [
    "age=int(input('Enter your age: '))\n",
    "print(age==14)"
   ]
  },
  {
   "cell_type": "code",
   "execution_count": null,
   "metadata": {},
   "outputs": [],
   "source": [
    "fatherAge = int(input('Father age: '))\n",
    "motherAge = int(input('Mother age: '))\n",
    "print(fatherAge==motherAge)"
   ]
  },
  {
   "cell_type": "code",
   "execution_count": null,
   "metadata": {},
   "outputs": [],
   "source": [
    "yourName = input('What is your name: ')\n",
    "print('your name is:',yourName)\n",
    "print(yourName=='James')"
   ]
  },
  {
   "cell_type": "code",
   "execution_count": null,
   "metadata": {},
   "outputs": [],
   "source": [
    "password = input('Enter password: ')\n",
    "print(password == 'C8763%FTLE')"
   ]
  },
  {
   "cell_type": "code",
   "execution_count": null,
   "metadata": {},
   "outputs": [],
   "source": [
    "examScore = float(input('Exam score: '))\n",
    "print(examScore > 50.0)"
   ]
  },
  {
   "cell_type": "code",
   "execution_count": null,
   "metadata": {},
   "outputs": [],
   "source": [
    "integer = int(input('Enter integer: '))\n",
    "print(integer <0)"
   ]
  },
  {
   "cell_type": "code",
   "execution_count": null,
   "metadata": {},
   "outputs": [],
   "source": [
    "timHeight = float(input('Height of Tim: '))\n",
    "mayHeight = float(input('Height of May: '))\n",
    "print(timHeight<=mayHeight)"
   ]
  },
  {
   "cell_type": "code",
   "execution_count": null,
   "metadata": {},
   "outputs": [],
   "source": [
    "number1 = int(input('Enter a number: '))\n",
    "number2 = int(input('Enter another number: '))\n",
    "print(number1 != number2)"
   ]
  },
  {
   "cell_type": "code",
   "execution_count": null,
   "metadata": {},
   "outputs": [],
   "source": [
    "number=int(input('Enter a number: '))\n",
    "\n",
    "if number<0:\n",
    "    print('This is negative!')\n",
    "\n",
    "print('This will always be here')"
   ]
  },
  {
   "cell_type": "code",
   "execution_count": null,
   "metadata": {},
   "outputs": [],
   "source": [
    "#Your turn!\n",
    "#try to create a password checker, prepare your secret password (not the one you use in the real life btw) and put it in the variable realpwd, then ask user for a input, fill in the blank to complete the program\n",
    "\n",
    "realpwd = ''\n",
    "userpwd = input('Enter the password: ')\n",
    "#your code here :"
   ]
  },
  {
   "cell_type": "code",
   "execution_count": null,
   "metadata": {},
   "outputs": [],
   "source": [
    "timHeight = float(input('Height of Tim: '))\n",
    "mayHeight = float(input('Height of May: '))\n",
    "if timHeight>mayHeight:\n",
    "    print('Tim is taller')\n",
    "else:\n",
    "    print('either they have the same height or May is taller')"
   ]
  },
  {
   "cell_type": "code",
   "execution_count": null,
   "metadata": {},
   "outputs": [],
   "source": [
    "#Your turn\n",
    "#So now you want to check whether you have enough money to buy all the things, the number of each things will be input by the user, try to complete the program\n",
    "\n",
    "TotalMoney=300\n",
    "\n",
    "PencilPrice=3\n",
    "CakePrice=11\n",
    "BookPrice=80\n",
    "\n",
    "a=int(input('How many pencil will you buy: '))\n",
    "b=int(input('How many book will you buy: '))\n",
    "c=int(input('How many cake will you buy: '))\n",
    "\n",
    "#complete the program below"
   ]
  },
  {
   "cell_type": "code",
   "execution_count": null,
   "metadata": {},
   "outputs": [],
   "source": [
    "timHeight = float(input('Tim\\'s height: '))\n",
    "mayHeight = float(input('May\\'s height: '))\n",
    "if timHeight > mayHeight:\n",
    "  print('Tim is taller')\n",
    "elif mayHeight > timHeight:\n",
    "  print('May is taller')\n",
    "else:\n",
    "  print('They have the same height')"
   ]
  },
  {
   "cell_type": "code",
   "execution_count": null,
   "metadata": {},
   "outputs": [],
   "source": [
    "#Your turn!\n",
    "#This time we want to check the grade according to your marks received in the exam, the cutoff of each grade, i.e. the minimum score you need to get over it for obtaining the grade, is saved in several variable, and your actual score will be input, output the grade correspond\n",
    "\n",
    "Acutoff=85\n",
    "Bcutoff=70\n",
    "Ccutoff=55\n",
    "Dcutoff=40"
   ]
  },
  {
   "cell_type": "code",
   "execution_count": null,
   "metadata": {},
   "outputs": [],
   "source": [
    "username = input('Username: ')\n",
    "password = input('Password: ')\n",
    "if username == 'animal' and password == 'elephant': \n",
    "  print('Login success')\n",
    "else:\n",
    "  print('Login failed')"
   ]
  },
  {
   "cell_type": "code",
   "execution_count": null,
   "metadata": {},
   "outputs": [],
   "source": [
    "age = int(input('Enter age: '))\n",
    "if 0 < age and age < 120:\n",
    "  print('This age make sense')\n",
    "else:\n",
    "  print('This age does not make sense')"
   ]
  },
  {
   "cell_type": "code",
   "execution_count": null,
   "metadata": {},
   "outputs": [],
   "source": [
    "instru = input('What musical instruments you like? ')\n",
    "\n",
    "if instru == 'guitar' or instru == 'bass':\n",
    "  print('So you like string instruments!')\n",
    "\n",
    "elif instru == 'brass' or instru == 'trumpet':\n",
    "  print('So you like wind instruments!')\n",
    "\n",
    "else:\n",
    "  print('Sorry, I don\\'t know what is ',instru)"
   ]
  },
  {
   "cell_type": "code",
   "execution_count": null,
   "metadata": {},
   "outputs": [],
   "source": [
    "age = int(input('Enter you age: '))\n",
    "\n",
    "if (8 <= age and age <= 15) or (60 <= age and age <= 80):\n",
    "  print('You are eligible')\n",
    "else:\n",
    "  print('Nope, you cannot buy this')"
   ]
  },
  {
   "cell_type": "code",
   "execution_count": null,
   "metadata": {},
   "outputs": [],
   "source": [
    "school=input('Which school do you belongs to? ')\n",
    "\n",
    "if not (school=='HKUST'):\n",
    "  print('welcome to the event')\n",
    "else:\n",
    "  print('you are already a student of HKUST')"
   ]
  }
 ],
 "metadata": {
  "kernelspec": {
   "display_name": "Python 3.8.6 64-bit",
   "language": "python",
   "name": "python3"
  },
  "language_info": {
   "name": "python",
   "version": "3.8.6"
  },
  "orig_nbformat": 4,
  "vscode": {
   "interpreter": {
    "hash": "1d8f32b7194eb7d118a32cd1a235be0f1bcba0bba7ac225b290b984c114c6786"
   }
  }
 },
 "nbformat": 4,
 "nbformat_minor": 2
}
