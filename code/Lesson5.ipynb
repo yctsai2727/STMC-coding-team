{
 "cells": [
  {
   "cell_type": "code",
   "execution_count": null,
   "metadata": {},
   "outputs": [],
   "source": [
    "# Searching for names in contact\n",
    "\n",
    "contact = ['Billy','Damon','Leon','Mary','Shirley']\n",
    "searchName = input('Enter a name: ')\n",
    "inContact = False \n",
    "for name in contact:\n",
    "  if searchName == name:\n",
    "    inContact = True \n",
    "if inContact:\n",
    "  print(f'{searchName} is in contact')\n",
    "\n",
    "# Search another one\n",
    "searchName = input('Enter a name again: ')\n",
    "inContact = False \n",
    "for name in contact:\n",
    "  if searchName == name:\n",
    "    inContact = True \n",
    "if inContact:\n",
    "  print(f'{searchName} is in contact')"
   ]
  },
  {
   "cell_type": "code",
   "execution_count": 3,
   "metadata": {},
   "outputs": [
    {
     "name": "stdout",
     "output_type": "stream",
     "text": [
      "The maximum of elements of the list: 99.0\n",
      "The sum of elements of the list: 159\n"
     ]
    }
   ],
   "source": [
    "def LeftFold(list,func):\n",
    "  first=True\n",
    "  res=list[0]\n",
    "  for item in list[1:-1]:\n",
    "    res=func(res,item)\n",
    "  return res\n",
    "\n",
    "def max(a,b):\n",
    "    return (abs(a-b)+(a+b))/2\n",
    "  \n",
    "def sum(a,b):\n",
    "    return a+b\n",
    "  \n",
    "list=[3,7,11,99,34,5,16]\n",
    "\n",
    "print(\"The maximum of elements of the list:\",LeftFold(list,max))\n",
    "print(\"The sum of elements of the list:\",LeftFold(list,sum))"
   ]
  },
  {
   "cell_type": "code",
   "execution_count": null,
   "metadata": {},
   "outputs": [],
   "source": [
    "def MergeSort(list):\n",
    "  length=len(list)\n",
    "  if length==1:\n",
    "    return list\n",
    "  left=list[0:length//2]\n",
    "  right=list[(length//2):length]\n",
    "  LeftSorted=MergeSort(left)\n",
    "  RightSorted=MergeSort(right)\n",
    "  listSorted=[]\n",
    "  LPointer=0\n",
    "  RPointer=0\n",
    "  for i in range(length):\n",
    "    if RPointer==len(RightSorted):\n",
    "      listSorted.append(LeftSorted[LPointer])\n",
    "      LPointer=LPointer+1\n",
    "    elif LPointer==len(LeftSorted) or RightSorted[RPointer]<LeftSorted[LPointer]:\n",
    "      listSorted.append(RightSorted[RPointer])\n",
    "      RPointer=RPointer+1\n",
    "    else:\n",
    "      listSorted.append(LeftSorted[LPointer])\n",
    "      LPointer=LPointer+1\n",
    "  return listSorted\n",
    "\n",
    "list=[3,7,11,99,34,5,16]\n",
    "\n",
    "print(\"Before sorting:\",list)\n",
    "\n",
    "sortedlist=MergeSort(list)\n",
    "\n",
    "print(\"After sorting:\",sortedlist)"
   ]
  },
  {
   "cell_type": "code",
   "execution_count": null,
   "metadata": {},
   "outputs": [],
   "source": [
    "def Fib(n):\n",
    "  if n == 1 or n == 2:\n",
    "    return 1\n",
    "  else:\n",
    "    return Fib(n-1) + Fib(n-2)"
   ]
  },
  {
   "cell_type": "code",
   "execution_count": null,
   "metadata": {},
   "outputs": [],
   "source": [
    "def _Fib(n):\n",
    "  if n == 1 or n == 2:\n",
    "    return (1,1)\n",
    "  else:\n",
    "    prev=_Fib(n-1)\n",
    "    return (prev[1],prev[0]+prev[1])\n",
    "\n",
    "def Fib(n):\n",
    "  pair=_Fib(n)\n",
    "  return pair[1]\n",
    "\n",
    "print(Fib(7))"
   ]
  },
  {
   "cell_type": "code",
   "execution_count": null,
   "metadata": {},
   "outputs": [],
   "source": [
    "def Hanoi(n,tar,emt):\n",
    "  if n==1:\n",
    "    print(\"move pile\",n,\"to tower\",tar)\n",
    "    return 1\n",
    "  else:\n",
    "    sum = Hanoi(n-1,emt,tar)\n",
    "    print(\"move pile\",n,\"to tower\",tar)\n",
    "    sum=sum+1\n",
    "    return sum+Hanoi(n-1,tar,1)\n",
    "step=Hanoi(3,3,2)\n",
    "print(step)"
   ]
  }
 ],
 "metadata": {
  "kernelspec": {
   "display_name": "Python 3",
   "language": "python",
   "name": "python3"
  },
  "language_info": {
   "codemirror_mode": {
    "name": "ipython",
    "version": 3
   },
   "file_extension": ".py",
   "mimetype": "text/x-python",
   "name": "python",
   "nbconvert_exporter": "python",
   "pygments_lexer": "ipython3",
   "version": "3.6.8"
  },
  "orig_nbformat": 4
 },
 "nbformat": 4,
 "nbformat_minor": 2
}
