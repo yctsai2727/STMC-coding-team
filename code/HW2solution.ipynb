{
 "cells": [
  {
   "cell_type": "code",
   "execution_count": null,
   "metadata": {},
   "outputs": [],
   "source": [
    "#Q1 solution\n",
    "TimScore = int(input('Enter Tim\\'s score'))\n",
    "FredrickScore = int(input('Enter Fredrick\\'s score'))\n",
    "IvanScore = int(input('Enter Ivan\\'s score'))\n",
    "#We do it in two round, first round we check the score, second round we check the raking\n",
    "TimGrade='U'\n",
    "FredrickGrade='U'\n",
    "IvanGrade='U'\n",
    "\n",
    "#checking Tim\n",
    "if TimScore>85:\n",
    "    TimGrade='A'\n",
    "elif TimScore>70:\n",
    "    TimGrade='B'\n",
    "else:\n",
    "    TimGrade='C'\n",
    "if TimScore>=FredrickScore and TimScore>=IvanScore:\n",
    "    TimGrade='A'\n",
    "elif TimGrade=='C' and (TimScore>=FredrickScore or TimScore>=IvanScore):\n",
    "    TimGrade='B'\n",
    "\n",
    "#checking Fredrick\n",
    "if FredrickScore>85:\n",
    "    FredrickGrade='A'\n",
    "elif FredrickScore>70:\n",
    "    FredrickGrade='B'\n",
    "else:\n",
    "    FredrickGrade='C'\n",
    "if FredrickScore>=TimScore and FredrickScore>=IvanScore:\n",
    "    FredrickGrade='A'\n",
    "elif FredrickGrade=='C' and (FredrickScore>=TimScore or FredrickScore>=IvanScore):\n",
    "    FredrickGrade='B'\n",
    "\n",
    "#checking Ivan\n",
    "if IvanScore>85:\n",
    "    IvanGrade='A'\n",
    "elif IvanScore>70:\n",
    "    IvanGrade='B'\n",
    "else:\n",
    "    IvanGrade='C'\n",
    "if IvanScore>=FredrickScore and IvanScore>=TimScore:\n",
    "    IvanGrade='A'\n",
    "elif IvanGrade=='C' and (IvanScore>=FredrickScore or IvanScore>=TimScore):\n",
    "    IvanGrade='B'\n",
    "\n",
    "print(\"Tim's grade:\",TimGrade,\", Fredrick's grade:\",FredrickGrade,\", Ivan's grade:\",IvanGrade)"
   ]
  },
  {
   "cell_type": "code",
   "execution_count": null,
   "metadata": {},
   "outputs": [],
   "source": [
    "#Q2 solution\n",
    "number=int(input('Enter a number: '))\n",
    "if number%2==0 or number%3==0 or number%5==0 or number%7==0:\n",
    "    print(number,\"is not a prime.\")\n",
    "else:\n",
    "    print(number,\"is a prime.\")"
   ]
  },
  {
   "cell_type": "code",
   "execution_count": null,
   "metadata": {},
   "outputs": [],
   "source": [
    "#Q3 solution\n",
    "def decision():\n",
    "    #your code start here, do not modify the things above\n",
    "    if ObstacleInfront():\n",
    "        pos=CurrentRoad()\n",
    "        if pos==1:\n",
    "            MoveDown()\n",
    "        else:\n",
    "            MoveUp()\n",
    "    #your code end here, do not modify the things below\n",
    "    return True"
   ]
  }
 ],
 "metadata": {
  "language_info": {
   "name": "python"
  },
  "orig_nbformat": 4
 },
 "nbformat": 4,
 "nbformat_minor": 2
}
